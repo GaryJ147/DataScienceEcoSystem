{
 "cells": [
  {
   "cell_type": "markdown",
   "id": "7dcffd6d-8993-4c91-bff0-3837476ee88c",
   "metadata": {},
   "source": [
    "# Data Science Tools and Ecosystem"
   ]
  },
  {
   "cell_type": "markdown",
   "id": "c55528bd-b075-4677-9179-c17fd59d3d1f",
   "metadata": {},
   "source": [
    "In this notebook, Data Science Tools and Ecosystem are summarized."
   ]
  },
  {
   "cell_type": "markdown",
   "id": "b49943b1-e4eb-4921-a5a2-a6161a1420c8",
   "metadata": {},
   "source": [
    "**Objectives**\n",
    "- List popular languages for Data Scientists\n",
    "- List commonly used libraries used by Data Scientists\n",
    "- List popular Data Science tools"
   ]
  },
  {
   "cell_type": "markdown",
   "id": "9a1b675b-a170-43ed-9bb1-5e2f7f51adc7",
   "metadata": {},
   "source": [
    "Some of the popular languages that Data Scientists use are:\n",
    "\n",
    "1. Python\n",
    "2. R\n",
    "3. SQL"
   ]
  },
  {
   "cell_type": "markdown",
   "id": "9f60706c-ef7e-4879-96aa-98bbf449b3db",
   "metadata": {},
   "source": [
    "Some of the commonly used libraries used by Data Scientists include:\n",
    "\n",
    "1. TensorFlow\n",
    "2. NumPy\n",
    "3. SciPy"
   ]
  },
  {
   "cell_type": "markdown",
   "id": "32d4e373-58d0-465a-b950-365a8d06bfde",
   "metadata": {},
   "source": [
    "| Data Science Tools |\n",
    "| --- |\n",
    "| RStudio |\n",
    "| Apache Spark |\n",
    "| Apache Hadoop |"
   ]
  },
  {
   "cell_type": "markdown",
   "id": "ac98a36b-c707-4995-867e-a473740f7a54",
   "metadata": {},
   "source": [
    "### Below are a few examples of evaluating arithmetic expressions in Python"
   ]
  },
  {
   "cell_type": "code",
   "execution_count": 1,
   "id": "a7c39f4c-4c35-4a39-b67c-55979a0a7abe",
   "metadata": {
    "tags": []
   },
   "outputs": [
    {
     "data": {
      "text/plain": [
       "17"
      ]
     },
     "execution_count": 1,
     "metadata": {},
     "output_type": "execute_result"
    }
   ],
   "source": [
    "# This a simple arithmetic expression to mutiply then add integers\n",
    "(3*4)+5"
   ]
  },
  {
   "cell_type": "code",
   "execution_count": 4,
   "id": "1248b233-6548-4f22-b548-743c6180ee73",
   "metadata": {
    "tags": []
   },
   "outputs": [
    {
     "data": {
      "text/plain": [
       "3.3333333333333335"
      ]
     },
     "execution_count": 4,
     "metadata": {},
     "output_type": "execute_result"
    }
   ],
   "source": [
    "# This will convert 200 minutes to hours by diving by 60\n",
    "200/60"
   ]
  },
  {
   "cell_type": "markdown",
   "id": "93d5beb7-2c24-4510-92d8-3ec8bc99bd71",
   "metadata": {},
   "source": [
    "## Author\n",
    "Gary Johnston"
   ]
  },
  {
   "cell_type": "code",
   "execution_count": null,
   "id": "c3cc5eed-a272-462d-8129-513a313e1778",
   "metadata": {},
   "outputs": [],
   "source": []
  }
 ],
 "metadata": {
  "kernelspec": {
   "display_name": "Python",
   "language": "python",
   "name": "conda-env-python-py"
  },
  "language_info": {
   "codemirror_mode": {
    "name": "ipython",
    "version": 3
   },
   "file_extension": ".py",
   "mimetype": "text/x-python",
   "name": "python",
   "nbconvert_exporter": "python",
   "pygments_lexer": "ipython3",
   "version": "3.7.12"
  }
 },
 "nbformat": 4,
 "nbformat_minor": 5
}
